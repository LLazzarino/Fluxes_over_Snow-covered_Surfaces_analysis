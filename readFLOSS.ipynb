{
 "cells": [
  {
   "cell_type": "markdown",
   "metadata": {},
   "source": [
    "# Read a single day of Data\n",
    "it is 10 hours of 4 data x measurement (u,v,w,T)\n",
    "times 2.16e6 measurements per hour (60 Hz)"
   ]
  },
  {
   "cell_type": "code",
   "execution_count": 7,
   "metadata": {},
   "outputs": [
    {
     "name": "stdout",
     "output_type": "stream",
     "text": [
      "    u_1   v_1   w_1     T_1   u_2   v_2   w_2     T_2   u_5   v_5  ...  w_15  \\\n",
      "0  5.14  1.39  0.10  277.72  5.12  1.55 -0.06  278.06  6.24  2.02  ... -0.31   \n",
      "1  5.02  1.30  0.13  277.68  5.20  1.96  0.19  278.12  6.41  1.93  ... -0.52   \n",
      "2  5.00  1.30 -0.01  277.72  4.90  1.67 -0.08  278.04  6.53  1.76  ... -0.60   \n",
      "3  4.87  1.26 -0.10  277.72  4.72  1.88 -0.05  278.07  6.50  1.75  ... -0.60   \n",
      "4  5.01  1.09 -0.16  277.71  4.64  1.82  0.02  278.13  6.67  1.49  ... -0.63   \n",
      "\n",
      "     T_15  u_20  v_20  w_20    T_20  u_30  v_30  w_30    T_30  \n",
      "0  280.23  9.47  3.97 -0.20  280.24  9.68  4.47  0.01  280.72  \n",
      "1  280.11  9.22  3.90 -0.08  280.27  9.65  4.42  0.00  280.71  \n",
      "2  280.17  9.21  4.00 -0.09  280.27  9.48  4.25 -0.08  280.57  \n",
      "3  280.17  9.22  3.91 -0.13  280.32  9.66  4.40 -0.02  280.67  \n",
      "4  280.15  9.26  3.99 -0.10  280.27  9.55  4.30 -0.05  280.74  \n",
      "\n",
      "[5 rows x 28 columns]\n"
     ]
    }
   ],
   "source": [
    "import pandas as pd\n",
    "import numpy as np\n",
    "import os\n",
    "\n",
    "# Impostazioni iniziali\n",
    "zs = [1, 2, 5, 10, 15, 20, 30]  # livelli FLOSS\n",
    "uidx = np.arange(0, 28, 4)  # indici u\n",
    "vidx = uidx + 1  # indici v\n",
    "widx = uidx + 2  # indici w\n",
    "Tidx = uidx + 3  # indici T\n",
    "\n",
    "# Percorso del file per un singolo giorno (ad esempio, apr01.dat)\n",
    "file_name = \"apr01.dat\"\n",
    "directory = \"\"\n",
    "file_path = os.path.join(directory, file_name)\n",
    "\n",
    "# Estrazione del giorno e del mese dal nome del file\n",
    "ggiorno = int(file_name[3:5])\n",
    "gmese = file_name[0:3]\n",
    "mesi = [\"jan\", \"feb\", \"mar\", \"apr\", \"may\", \"jun\", \"jul\", \"aug\", \"sep\", \"oct\", \"nov\", \"dec\"]\n",
    "gmese = mesi.index(gmese) + 1  # Trovare l'indice del mese (1-12)\n",
    "\n",
    "# Lettura del file\n",
    "with open(file_path, 'r') as file_read:\n",
    "    # Sostituzione di '*******' con 'NA' (valori mancanti)\n",
    "    file_data = file_read.read().replace('*******', ' NA')\n",
    "\n",
    "# Scrittura temporanea dei dati modificati in un file temporaneo\n",
    "temp_file = \"temp_file.txt\"\n",
    "with open(temp_file, 'w') as temp:\n",
    "    temp.write(file_data)\n",
    "\n",
    "# Lettura dei dati come DataFrame (simile a fread in R)\n",
    "dati_giorno = pd.read_csv(temp_file, header=None, delim_whitespace=True, nrows=2160000)\n",
    "\n",
    "# Rinominare le colonne per u, v, w, T\n",
    "colonne = dati_giorno.columns.tolist()  # Prendere le colonne come lista\n",
    "\n",
    "for idx, z in zip(uidx, zs):\n",
    "    colonne[idx] = f\"u_{z}\"\n",
    "for idx, z in zip(vidx, zs):\n",
    "    colonne[idx] = f\"v_{z}\"\n",
    "for idx, z in zip(widx, zs):\n",
    "    colonne[idx] = f\"w_{z}\"\n",
    "for idx, z in zip(Tidx, zs):\n",
    "    colonne[idx] = f\"T_{z}\"\n",
    "\n",
    "# Assegnare la nuova lista di colonne al DataFrame\n",
    "dati_giorno.columns = colonne\n",
    "\n",
    "# Convertire la temperatura da Celsius a Kelvin\n",
    "dati_giorno.iloc[:, Tidx] += 273.16\n",
    "\n",
    "# Rimuovere il file temporaneo\n",
    "os.remove(temp_file)\n",
    "\n",
    "# Stampare per verificare (opzionale)\n",
    "print(dati_giorno.head())"
   ]
  },
  {
   "cell_type": "code",
   "execution_count": 8,
   "metadata": {},
   "outputs": [
    {
     "data": {
      "text/plain": [
       "(2160000, 28)"
      ]
     },
     "execution_count": 8,
     "metadata": {},
     "output_type": "execute_result"
    }
   ],
   "source": [
    "dati_giorno.shape"
   ]
  },
  {
   "cell_type": "code",
   "execution_count": null,
   "metadata": {},
   "outputs": [],
   "source": []
  }
 ],
 "metadata": {
  "kernelspec": {
   "display_name": "Python 3",
   "language": "python",
   "name": "python3"
  },
  "language_info": {
   "codemirror_mode": {
    "name": "ipython",
    "version": 3
   },
   "file_extension": ".py",
   "mimetype": "text/x-python",
   "name": "python",
   "nbconvert_exporter": "python",
   "pygments_lexer": "ipython3",
   "version": "3.7.4"
  }
 },
 "nbformat": 4,
 "nbformat_minor": 4
}
