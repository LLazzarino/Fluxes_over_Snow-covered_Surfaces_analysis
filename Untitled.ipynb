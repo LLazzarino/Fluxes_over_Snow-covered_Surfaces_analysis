{
 "cells": [
  {
   "cell_type": "code",
   "execution_count": 3,
   "metadata": {},
   "outputs": [
    {
     "name": "stdout",
     "output_type": "stream",
     "text": [
      "Overwriting useful.py\n"
     ]
    }
   ],
   "source": [
    "%%writefile useful.py\n",
    "def read_day(filename):\n",
    "    import pandas as pd\n",
    "    import numpy as np\n",
    "    import os\n",
    "\n",
    "    # Impostazioni iniziali\n",
    "    zs = [1, 2, 5, 10, 15, 20, 30]  # livelli FLOSS\n",
    "    uidx = np.arange(0, 28, 4)  # indici u\n",
    "    vidx = uidx + 1  # indici v\n",
    "    widx = uidx + 2  # indici w\n",
    "    Tidx = uidx + 3  # indici T\n",
    "\n",
    "    # Percorso del file per un singolo giorno (ad esempio, apr01.dat)\n",
    "    file_name = filename\n",
    "    directory = \"\"\n",
    "    file_path = os.path.join(directory, file_name)\n",
    "\n",
    "    # Estrazione del giorno e del mese dal nome del file\n",
    "    ggiorno = int(file_name[3:5])\n",
    "    gmese = file_name[0:3]\n",
    "    mesi = [\"jan\", \"feb\", \"mar\", \"apr\", \"may\", \"jun\", \"jul\", \"aug\", \"sep\", \"oct\", \"nov\", \"dec\"]\n",
    "    gmese = mesi.index(gmese) + 1  # Trovare l'indice del mese (1-12)\n",
    "\n",
    "    # Lettura del file\n",
    "    with open(file_path, 'r') as file_read:\n",
    "        # Sostituzione di '*******' con 'NA' (valori mancanti)\n",
    "        file_data = file_read.read().replace('*******', ' NA')\n",
    "\n",
    "    # Scrittura temporanea dei dati modificati in un file temporaneo\n",
    "    temp_file = \"temp_file.txt\"\n",
    "    with open(temp_file, 'w') as temp:\n",
    "        temp.write(file_data)\n",
    "\n",
    "    # Lettura dei dati come DataFrame (simile a fread in R)\n",
    "    dati_giorno = pd.read_csv(temp_file, header=None, delim_whitespace=True, nrows=2160000)\n",
    "\n",
    "    # Rinominare le colonne per u, v, w, T\n",
    "    colonne = dati_giorno.columns.tolist()  # Prendere le colonne come lista\n",
    "\n",
    "    for idx, z in zip(uidx, zs):\n",
    "        colonne[idx] = f\"u_{z}\"\n",
    "    for idx, z in zip(vidx, zs):\n",
    "        colonne[idx] = f\"v_{z}\"\n",
    "    for idx, z in zip(widx, zs):\n",
    "        colonne[idx] = f\"w_{z}\"\n",
    "    for idx, z in zip(Tidx, zs):\n",
    "        colonne[idx] = f\"T_{z}\"\n",
    "\n",
    "    # Assegnare la nuova lista di colonne al DataFrame\n",
    "    dati_giorno.columns = colonne\n",
    "\n",
    "    # Convertire la temperatura da Celsius a Kelvin\n",
    "    dati_giorno.iloc[:, Tidx] += 273.16\n",
    "\n",
    "    # Rimuovere il file temporaneo\n",
    "    os.remove(temp_file)\n",
    "\n",
    "    # Stampare per verificare (opzionale)\n",
    "    print(dati_giorno.head())\n",
    "    return dati_giorno"
   ]
  },
  {
   "cell_type": "code",
   "execution_count": null,
   "metadata": {},
   "outputs": [],
   "source": []
  }
 ],
 "metadata": {
  "kernelspec": {
   "display_name": "Python 3",
   "language": "python",
   "name": "python3"
  },
  "language_info": {
   "codemirror_mode": {
    "name": "ipython",
    "version": 3
   },
   "file_extension": ".py",
   "mimetype": "text/x-python",
   "name": "python",
   "nbconvert_exporter": "python",
   "pygments_lexer": "ipython3",
   "version": "3.7.4"
  }
 },
 "nbformat": 4,
 "nbformat_minor": 4
}
